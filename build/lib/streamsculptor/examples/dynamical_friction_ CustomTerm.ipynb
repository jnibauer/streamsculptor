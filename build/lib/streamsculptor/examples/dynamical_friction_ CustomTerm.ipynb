{
 "cells": [
  {
   "cell_type": "code",
   "execution_count": 2,
   "metadata": {},
   "outputs": [],
   "source": [
    "from gala.units import UnitSystem\n",
    "from astropy import units as u\n",
    "usys = UnitSystem(u.kpc, u.Myr, u.Msun, u.radian)\n",
    "import jax.numpy as jnp\n",
    "from astropy.coordinates import SkyCoord, Galactocentric\n",
    "\n",
    "\n",
    "import matplotlib.pyplot as plt\n",
    "import jax\n",
    "jax.config.update(\"jax_enable_x64\", True)\n",
    "\n",
    "from streamsculptor import potential\n",
    "from streamsculptor import JaxCoords as jc\n",
    "\n",
    "\n"
   ]
  },
  {
   "cell_type": "markdown",
   "metadata": {},
   "source": [
    "#### Radial velocity dispersion from the spherical Jean's equation (assuming constant $\\beta$)\n",
    "\n",
    "$$\\sigma_r^2 = \\frac{r^{-2\\beta}}{\\rho(r)} \\int\\limits_{r}^{\\infty} dr^\\prime r^{\\prime{2\\beta} } \\rho(r^\\prime) \\frac{d\\Phi}{dr}$$\n"
   ]
  },
  {
   "cell_type": "code",
   "execution_count": 3,
   "metadata": {},
   "outputs": [],
   "source": [
    "from jax.scipy.integrate import trapezoid\n",
    "\n",
    "def get_sigma_r(r, beta, pot):\n",
    "    r_grid = jnp.logspace(jnp.log10(r), 3, 2000)\n",
    "    r_eval = jnp.vstack([r_grid, jnp.zeros_like(r_grid), jnp.zeros_like(r_grid)]).T \n",
    "    density = jax.vmap(pot.density,in_axes=(0,None))(r_eval,0.0)\n",
    "\n",
    "\n",
    "\n"
   ]
  },
  {
   "cell_type": "code",
   "execution_count": null,
   "metadata": {},
   "outputs": [],
   "source": []
  }
 ],
 "metadata": {
  "kernelspec": {
   "display_name": "streamsculptor_env",
   "language": "python",
   "name": "python3"
  },
  "language_info": {
   "codemirror_mode": {
    "name": "ipython",
    "version": 3
   },
   "file_extension": ".py",
   "mimetype": "text/x-python",
   "name": "python",
   "nbconvert_exporter": "python",
   "pygments_lexer": "ipython3",
   "version": "3.13.0"
  }
 },
 "nbformat": 4,
 "nbformat_minor": 2
}
