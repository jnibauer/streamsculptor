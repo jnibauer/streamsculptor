{
 "cells": [
  {
   "cell_type": "code",
   "execution_count": 1,
   "metadata": {},
   "outputs": [],
   "source": [
    "# The following notebook is based entirely on \n",
    "# this script from AGAMA: \n",
    "# https://github.com/GalacticDynamics-Oxford/Agama/blob/c507fc3e703513ae4a41bb705e171a4d036754a8/py/example_lmc_mw_interaction.py\n",
    "import sys\n",
    "sys.path.append('../')\n",
    "import potential as potlib\n",
    "from gala.units import UnitSystem\n",
    "from astropy import units as u\n",
    "usys = UnitSystem(u.kpc, u.Myr, u.Msun, u.radian)\n",
    "import jax.numpy as jnp\n",
    "\n",
    "import diffrax\n",
    "import fields as fields\n",
    "\n",
    "import StreamSculptor\n",
    "import potential\n",
    "import matplotlib.pyplot as plt\n",
    "import numpy as np\n",
    "import jax\n",
    "import RestrictedNbody\n",
    "jax.config.update(\"jax_enable_x64\", True)\n",
    "\n",
    "from functools import partial\n",
    "import interpax\n",
    "from fields import integrate_field\n",
    "# agama imports\n",
    "import agama\n",
    "import numpy as np, numpy\n",
    "\n",
    "from InterpAGAMA import AGAMA_Spheroid"
   ]
  },
  {
   "cell_type": "code",
   "execution_count": 2,
   "metadata": {},
   "outputs": [],
   "source": [
    "agama.setUnits(length=1, velocity=1, mass=1)  # work in units of 1 kpc, 1 km/s, 1 Msun)\n",
    "timeUnitMyr = agama.getUnits()['time'] #agama time unit in Myr\n"
   ]
  },
  {
   "cell_type": "code",
   "execution_count": 3,
   "metadata": {},
   "outputs": [],
   "source": [
    "### Below we start with the AGAMA setup. No jax in this cell.\n",
    "\n",
    "Trewind = -4_000.0#-4000.0  # initial time [Myr] - the LMC orbit is computed back to that time\n",
    "Tcurr   =  0.0  # current time\n",
    "# heliocentric ICRS celestial coordinates and velocity of the LMC\n",
    "# (PM from Luri+ 2021, distance from Pietrzynski+ 2019, center and velocity from van der Marel+ 2002)\n",
    "ra, dec, dist, pmra, pmdec, vlos = 81.28, -69.78, 49.6, 1.858, 0.385, 262.2\n",
    "# transform to Galactocentric cartesian position/velocity, using built-in routines from Agama\n",
    "# (hence the manual conversion factors from degrees to radians and from mas/yr to km/s/kpc)\n",
    "l, b, pml, pmb = agama.transformCelestialCoords(agama.fromICRStoGalactic,\n",
    "    ra * np.pi/180, dec * np.pi/180, pmra, pmdec)\n",
    "posvelLMC = agama.getGalactocentricFromGalactic(l, b, dist, pml*4.74, pmb*4.74, vlos)\n",
    "\n",
    "# Create a simple but realistic model of the Milky Way with a bulge, a single disk,\n",
    "# and a spherical dark halo\n",
    "paramBulge = dict(\n",
    "    type              = 'Spheroid',\n",
    "    mass              = 1.2e10,\n",
    "    scaleRadius       = 0.2,\n",
    "    outerCutoffRadius = 1.8,\n",
    "    gamma             = 0.0,\n",
    "    beta              = 1.8)\n",
    "paramDisk  = dict(\n",
    "    type='Disk',\n",
    "    mass              = 5.0e10,\n",
    "    scaleRadius       = 3.0,\n",
    "    scaleHeight       = -0.4)\n",
    "paramHalo  = dict(\n",
    "    type              = 'Spheroid',\n",
    "    densityNorm       = 1.35e7,\n",
    "    scaleRadius       = 14,\n",
    "    outerCutoffRadius = 300,\n",
    "    cutoffStrength    = 4,\n",
    "    gamma             = 1,\n",
    "    beta              = 3)\n",
    "# Mass in spheroid is _total mass_\n",
    "massLMC    = 1.5e11\n",
    "radiusLMC  = (massLMC/1e11)**0.6 * 8.5\n",
    "paramLMC = dict(\n",
    "    type              = 'spheroid',\n",
    "    mass              = massLMC,\n",
    "    scaleRadius       = radiusLMC,\n",
    "    outerCutoffRadius = radiusLMC*10,\n",
    "    gamma             = 1,\n",
    "    beta              = 3\n",
    "    )\n",
    "    \n",
    "\n",
    "densMWhalo = agama.Density(paramHalo)\n",
    "potMW      = agama.Potential(paramBulge, paramDisk, paramHalo)\n",
    "\n",
    "# create a sphericalized MW potential and a corresponding isotropic halo distribution function\n",
    "potMWsph   = agama.Potential(type='Multipole', potential=potMW, lmax=0, rmin=0.01, rmax=1000)\n",
    "gmHalo     = agama.GalaxyModel(potMWsph,\n",
    "    agama.DistributionFunction(type='quasispherical', density=densMWhalo, potential=potMWsph))\n",
    "\n",
    "# compute the velocity dispersion in the MW halo needed for the dynamical friction\n",
    "rgrid      = numpy.logspace(.01, 3, 32)\n",
    "xyzgrid    = numpy.column_stack([rgrid, rgrid*0, rgrid*0])\n",
    "sigma_eval  = gmHalo.moments(xyzgrid, dens=False, vel=False, vel2=True)[:,0]**0.5\n",
    "\n",
    "# Create the LMC potential - a spherical truncated NFW profile with mass and radius\n",
    "# related by the equation below, which produces approximately the same enclosed mass\n",
    "# profile in the inner region, satisfying the observational constraints, as shown\n",
    "# in Fig.3 of Vasiliev,Belokurov&Erkal 2021.\n",
    "bminCouLog = radiusLMC * 2.0   # minimum impact parameter in the Coulomb logarithm\n",
    "potLMC     = agama.Potential(paramLMC)"
   ]
  },
  {
   "cell_type": "code",
   "execution_count": 4,
   "metadata": {},
   "outputs": [],
   "source": [
    "# Next we follow the steps below\n",
    "# [Step 1]: Convert AGAMA potential to StreamSculptor Potentials\n",
    "# [Step 2]: Convert dynamical friction sigmafnc (computed with AGAMA) to a jax interpolated array\n",
    "\n",
    "# [Step 1]\n",
    "\n",
    "pot_bulge_jax = AGAMA_Spheroid(**paramBulge)\n",
    "pot_disk_jax = potential.MiyamotoNagaiDisk(m=paramDisk['mass'], a=paramDisk['scaleRadius'], b=paramDisk['scaleHeight'], units=usys)\n",
    "pot_halo_jax = AGAMA_Spheroid(**paramHalo)\n",
    "pot_MW_lst = [pot_bulge_jax, pot_disk_jax, pot_halo_jax]\n",
    "pot_MW_jax = potential.Potential_Combine(pot_MW_lst, units=usys)\n",
    "\n",
    "pot_LMC_jax = AGAMA_Spheroid(**paramLMC)\n",
    "\n",
    "# [Step 2]\n",
    "sigmafnc = interpax.Interpolator1D(x=rgrid, f=sigma_eval*(u.km/u.s).to(u.kpc/u.Myr), method='cubic2')\n",
    "\n"
   ]
  },
  {
   "cell_type": "code",
   "execution_count": 12,
   "metadata": {},
   "outputs": [],
   "source": [
    "from fields import MW_LMC_field\n",
    "field = MW_LMC_field(pot_MW=pot_MW_jax, pot_LMC=pot_LMC_jax, sigma_func=sigmafnc, bminCouLog=bminCouLog)"
   ]
  },
  {
   "cell_type": "code",
   "execution_count": 14,
   "metadata": {},
   "outputs": [],
   "source": [
    "ICs_MW = jnp.zeros(6) # MW at origin at rest at t0\n",
    "init_pos_LMC= np.hstack(posvelLMC)[:3]\n",
    "init_vel_LMC= np.hstack(posvelLMC)[3:]*(u.km/u.s).to(u.kpc/u.Myr)\n",
    "ICs_LMC = jnp.hstack([init_pos_LMC, init_vel_LMC])\n",
    "\n",
    "ICs_total = [ICs_MW, ICs_LMC]\n",
    "tsave = jnp.linspace(Trewind, Tcurr, 500)[::-1]\n",
    "out = integrate_field(w0=ICs_total, ts=tsave, field=field, max_steps=10_000,solver=diffrax.Dopri5(),backwards_int=True)"
   ]
  },
  {
   "cell_type": "code",
   "execution_count": 15,
   "metadata": {},
   "outputs": [
    {
     "data": {
      "text/plain": [
       "<matplotlib.legend.Legend at 0x156d11950>"
      ]
     },
     "execution_count": 15,
     "metadata": {},
     "output_type": "execute_result"
    },
    {
     "data": {
      "image/png": "[encoded data removed]",
      "text/plain": [
       "<Figure size 640x480 with 1 Axes>"
      ]
     },
     "metadata": {},
     "output_type": "display_data"
    }
   ],
   "source": [
    "plt.plot(out.ys[0][:,0], out.ys[0][:,2], label='MW')\n",
    "plt.plot(out.ys[1][:,0], out.ys[1][:,2], label='LMC')\n",
    "plt.legend()"
   ]
  },
  {
   "cell_type": "code",
   "execution_count": null,
   "metadata": {},
   "outputs": [],
   "source": []
  }
 ],
 "metadata": {
  "kernelspec": {
   "display_name": "streamsculptor_env",
   "language": "python",
   "name": "python3"
  },
  "language_info": {
   "codemirror_mode": {
    "name": "ipython",
    "version": 3
   },
   "file_extension": ".py",
   "mimetype": "text/x-python",
   "name": "python",
   "nbconvert_exporter": "python",
   "pygments_lexer": "ipython3",
   "version": "3.13.0"
  }
 },
 "nbformat": 4,
 "nbformat_minor": 2
}
