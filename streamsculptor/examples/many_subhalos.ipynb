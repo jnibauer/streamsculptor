{
 "cells": [
  {
   "cell_type": "markdown",
   "metadata": {},
   "source": [
    "Here we will demonstrate how to generate a stream in the regime of many subhalo impacts.\n",
    "As usual, a GPU will provide signicant speedup, though this notebook is written for cpu usage.\n",
    "\n",
    "If you would like to adapt this notebook for product runs on a gpu, change all usages of ``gen_stream_scan_with_pert`` to ``gen_stream_vmapped_with_pert``. The latter is optimized for gpu performancem, the former for cpu performance. This is due to difference between ``jax.lax.scan`` and ``jax.vmap``."
   ]
  },
  {
   "cell_type": "code",
   "execution_count": 1,
   "metadata": {},
   "outputs": [],
   "source": [
    "from gala.units import UnitSystem\n",
    "from astropy import units as u\n",
    "usys = UnitSystem(u.kpc, u.Myr, u.Msun, u.radian)\n",
    "import jax.numpy as jnp\n",
    "from astropy.coordinates import SkyCoord, Galactocentric\n",
    "\n",
    "\n",
    "import matplotlib.pyplot as plt\n",
    "import jax\n",
    "jax.config.update(\"jax_enable_x64\", True)\n",
    "\n",
    "from streamsculptor import potential\n",
    "from streamsculptor import JaxCoords as jc\n",
    "import diffrax\n",
    "\n",
    "\n",
    "from streamsculptor import JaxCoords as jc\n",
    "\n",
    "import matplotlib as mpl\n",
    "\n",
    "## Some plotting things (not necessary)\n",
    "import scienceplots\n",
    "plt.style.use('science')\n",
    "mpl.rcParams['text.usetex'] = False ## We do not have LaTex on the HPC...\n",
    "\n"
   ]
  },
  {
   "cell_type": "markdown",
   "metadata": {},
   "source": [
    "First we will define a gd-1 centric frame. These transformations are written in Jax so they can be differentiated."
   ]
  },
  {
   "cell_type": "code",
   "execution_count": 2,
   "metadata": {},
   "outputs": [],
   "source": [
    "@jax.jit\n",
    "def icrs_to_gd1(ra_rad, dec_rad):\n",
    "    \"\"\"\n",
    "    define a *differentiable* coordinate transfrom from ra and dec --> gd1 phi1, phi2\n",
    "    Using the rotation matrix from Koposov+2010\n",
    "    ra_rad: icrs ra [radians]\n",
    "    dec_red: icrs dec [radians]\n",
    "    \"\"\"\n",
    "    R = jnp.array(\n",
    "        [\n",
    "            [-0.4776303088, -0.1738432154, 0.8611897727],\n",
    "            [0.510844589, -0.8524449229, 0.111245042],\n",
    "            [0.7147776536, 0.4930681392, 0.4959603976],\n",
    "        ]\n",
    "    )\n",
    "\n",
    "\n",
    "    icrs_vec = jnp.vstack([jnp.cos(ra_rad)*jnp.cos(dec_rad),\n",
    "                           jnp.sin(ra_rad)*jnp.cos(dec_rad),\n",
    "                           jnp.sin(dec_rad)]).T\n",
    "\n",
    "    stream_frame_vec = jnp.einsum('ij,kj->ki',R,icrs_vec)\n",
    "    \n",
    "    phi1 = jnp.arctan2(stream_frame_vec[:,1],stream_frame_vec[:,0])*180/jnp.pi\n",
    "    phi2 = jnp.arcsin(stream_frame_vec[:,2])*180/jnp.pi\n",
    "\n",
    "    \n",
    "    return phi1, phi2\n",
    "\n",
    "@jax.jit\n",
    "def get_phi12_from_stream(stream):\n",
    "    \"\"\"\n",
    "    Differentiable helper function that takes us from simulated stream --> phi1, phi2\n",
    "    \"\"\"\n",
    "    ra_s, dec_s, dist_ = jax.vmap(jc.simcart_to_icrs)(stream[:,:3])\n",
    "    phi1_model, phi2_model = icrs_to_gd1(ra_s*jnp.pi/180, dec_s*jnp.pi/180)\n",
    "    return phi1_model, phi2_model\n"
   ]
  },
  {
   "cell_type": "markdown",
   "metadata": {},
   "source": [
    "Estimated progenitor location today in [kpc, kpc, kpc, kpc/Myr, kpc/Myr, kpc/Myr]\n",
    "Estimated in a seperate file, but will provide a good starting point for this notebook. This file can be found in the data folder of the streamsculptor repository:\n",
    "``data/GD1_prog/GD1_progenitor.npy``"
   ]
  },
  {
   "cell_type": "code",
   "execution_count": 3,
   "metadata": {},
   "outputs": [],
   "source": [
    "prog_wtoday = jnp.load('../data/GD1_prog/GD1_progenitor.npy',allow_pickle=True).item()\n",
    "pos = prog_wtoday.pos.xyz.to(u.kpc).value\n",
    "vel = prog_wtoday.vel.d_xyz.to(u.kpc/u.Myr).value\n",
    "prog_wtoday = jnp.hstack([pos,vel])\n"
   ]
  },
  {
   "cell_type": "markdown",
   "metadata": {},
   "source": [
    "Setup the potential, stream age, dissolution time, stripping times. Then generate an unperturbed stream:"
   ]
  },
  {
   "cell_type": "code",
   "execution_count": 4,
   "metadata": {},
   "outputs": [],
   "source": [
    "## Use Gala's MW potential\n",
    "pot = potential.GalaMilkyWayPotential(units=usys)\n",
    "## Define the age of the stream [Myr]\n",
    "t_age = 2500.0\n",
    "## Past time at which it dissolved [Myr]\n",
    "t_dissolve = -300.0\n",
    "## Get initial conditions\n",
    "IC = pot.integrate_orbit(w0=prog_wtoday, t0=0.0, t1=-t_age,ts=jnp.array([-t_age])).ys[0]\n",
    "## Define stripping times. ts[-1] is always the final integration time for gen_stream simulations\n",
    "ts = jnp.hstack([jnp.linspace(-t_age,t_dissolve,2_000), jnp.array([0.0])])\n",
    "## Generate unperturbed stream [l: lead, t: trail]\n",
    "l ,t = pot.gen_stream_scan(prog_w0=IC,ts=ts,seed_num=532,Msat=1e4,atol=1e-6,rtol=1e-6,solver=diffrax.Dopri5())\n",
    "stream = jnp.vstack([l,t])"
   ]
  },
  {
   "cell_type": "code",
   "execution_count": 5,
   "metadata": {},
   "outputs": [
    {
     "data": {
      "image/png": "[encoded data removed]",
      "text/plain": [
       "<Figure size 800x800 with 1 Axes>"
      ]
     },
     "metadata": {},
     "output_type": "display_data"
    }
   ],
   "source": [
    "phi1_model, phi2_model = get_phi12_from_stream(stream)\n",
    "\n",
    "fig, ax = plt.subplots(1,1)\n",
    "fig.set_size_inches(8,8)\n",
    "ax.scatter(phi1_model, phi2_model,s=.05,color='tab:blue')\n",
    "\n",
    "    \n",
    "ax.tick_params(axis='both', which='major', labelsize=14., length=8)\n",
    "ax.tick_params(axis='both', which='minor', length=3)\n",
    "ax.set_ylim(-10,10)\n",
    "ax.set_xlim(-80,20)\n",
    "ax.set_xlabel(r'$\\phi_1$ [deg]',fontsize=20)\n",
    "ax.set_ylabel(r'$\\phi_2$ [deg]',fontsize=20)\n",
    "ax.set_aspect('equal')"
   ]
  },
  {
   "cell_type": "markdown",
   "metadata": {},
   "source": [
    "Goodbye, stream. \n",
    "\n",
    "Now we will introduce $N$ subhalos, using the ```ImpactGenerator```. The docstring of this function provides a decent overview, but the basic idea is that we randomly generate impacts by taking the average phase-space location of particles in $\\phi_1$ bands (one such average gives us a \"phase-space patch\"), integrate back to an impact time, and randomly sample impact parameters, angles, and speeds in the frame of the phase-space patch we have just backwards integrated. \n",
    "\n",
    "We record the randomly sampled impact parameters, and a Cartesian representation of the subhalo fly-by, and output this information for use in setting up the potentials of the fly-bys. The bounds of the impact parameters (including time of impact, impact angles, distance of closest approach, etc.) can all be adjusted. Sensible defaults are provided.\n",
    "\n",
    "Here's an example usage with 20 subhalos. Notice that for any case, the ``ImpactGenerator`` needs the unperturbed stream's $\\phi_1$ coordinate to parametrize the impacts. This coordinate can be in physical units of (e.g.) length, deg, radian, etc. The only requirement is that it is some scalar parameter that is mappable to the arclength of the stream's track. "
   ]
  },
  {
   "cell_type": "code",
   "execution_count": 30,
   "metadata": {},
   "outputs": [
    {
     "name": "stdout",
     "output_type": "stream",
     "text": [
      "dict_keys(['CartesianImpactParams', 'ImpactFrameParams'])\n"
     ]
    }
   ],
   "source": [
    "from streamsculptor.GenerateImpactParams import ImpactGenerator\n",
    "ImpactGen = ImpactGenerator(pot=pot, tobs=0.0, stream=stream, stream_phi1=phi1_model, phi1_bounds=[-80.,20.],\n",
    "                           tImpactBounds=[-2500,0.0],phi1window=.8, NumImpacts=20,bImpact_bounds=[0,.1])\n",
    "\n",
    "ImpactDict = ImpactGen.get_subhalo_ImpactParams()\n",
    "print(ImpactDict.keys())"
   ]
  },
  {
   "cell_type": "code",
   "execution_count": 31,
   "metadata": {},
   "outputs": [
    {
     "data": {
      "text/plain": [
       "(20, 6)"
      ]
     },
     "execution_count": 31,
     "metadata": {},
     "output_type": "execute_result"
    }
   ],
   "source": [
    "ImpactDict['CartesianImpactParams'].shape"
   ]
  },
  {
   "cell_type": "code",
   "execution_count": 32,
   "metadata": {},
   "outputs": [
    {
     "data": {
      "text/plain": [
       "dict_keys(['bImpact', 'beta', 'gamma', 'phi', 'phi1_samples', 'tImpact', 'vImpact'])"
      ]
     },
     "execution_count": 32,
     "metadata": {},
     "output_type": "execute_result"
    }
   ],
   "source": [
    "ImpactDict['ImpactFrameParams'].keys()"
   ]
  },
  {
   "cell_type": "code",
   "execution_count": 33,
   "metadata": {},
   "outputs": [
    {
     "data": {
      "text/plain": [
       "Array([4.88154244e-02, 4.24466055e-02, 1.54670932e-02, 1.44069238e-02,\n",
       "       9.81474254e-02, 5.20953562e-02, 7.30005375e-05, 7.69477597e-02,\n",
       "       7.80358862e-02, 6.36913410e-02, 4.74426605e-02, 7.43516788e-02,\n",
       "       1.79309132e-02, 9.38035294e-02, 2.55941501e-02, 6.14183721e-02,\n",
       "       1.19332391e-02, 8.09518141e-02, 5.56748381e-02, 6.28767962e-02],      dtype=float64)"
      ]
     },
     "execution_count": 33,
     "metadata": {},
     "output_type": "execute_result"
    }
   ],
   "source": [
    "ImpactDict['ImpactFrameParams']['bImpact']"
   ]
  },
  {
   "cell_type": "markdown",
   "metadata": {},
   "source": [
    "Now we will set up a function to generate the perturbed stream, given a 1d array of masses and scale-radii for the subhalos (length of these arrays == number of subhalos). We will jit compile the function. For production runs, this entire notebook can, in principle, be jit compiled. \n",
    "\n",
    "We will use the function ``gen_stream_scan_with_pert`` to generate the stream with perturbations."
   ]
  },
  {
   "cell_type": "code",
   "execution_count": 34,
   "metadata": {},
   "outputs": [],
   "source": [
    "from streamsculptor import gen_stream_scan_with_pert"
   ]
  },
  {
   "cell_type": "code",
   "execution_count": 35,
   "metadata": {},
   "outputs": [],
   "source": [
    "@jax.jit\n",
    "def gen_perturbed_stream(m, rs):\n",
    "    pot_SH = potential.SubhaloLinePotential(m=m, \n",
    "                                            a=rs,\n",
    "                                            subhalo_x0=ImpactDict['CartesianImpactParams'][:,:3],\n",
    "                                            subhalo_v=ImpactDict['CartesianImpactParams'][:,3:],\n",
    "                                            subhalo_t0=ImpactDict['ImpactFrameParams']['tImpact'],\n",
    "                                            t_window=jnp.array([150.0]),\n",
    "                                            units=usys)\n",
    "\n",
    "    pot_lst = [pot, pot_SH]\n",
    "    pot_total = potential.Potential_Combine(pot_lst,units=usys)\n",
    "\n",
    "    IC = pot_total.integrate_orbit(w0=prog_wtoday, t0=0.0, t1=-t_age,ts=jnp.array([-t_age]),max_steps=10_000).ys[0]\n",
    "    l ,t = gen_stream_scan_with_pert(pot_base=pot, pot_pert=pot_SH, prog_w0=IC, ts=ts, seed_num=532, Msat=1e4, max_steps=10_000,\n",
    "                                        atol=1e-7,rtol=1e-7, solver=diffrax.Dopri5(), dtmin=0.05)\n",
    "    stream = jnp.vstack([l,t])\n",
    "\n",
    "    return stream\n",
    "\n"
   ]
  },
  {
   "cell_type": "markdown",
   "metadata": {},
   "source": [
    "Run the simulation:"
   ]
  },
  {
   "cell_type": "code",
   "execution_count": 36,
   "metadata": {},
   "outputs": [],
   "source": [
    "## 20 subhalos, masses of 5e6, scale radii of 0.05. This is all tuneable, but will make for \n",
    "## a very clearly perturbed stream\n",
    "m = jnp.ones(20)*5e6\n",
    "rs = jnp.ones(20)*0.05\n",
    "perturbed_stream = gen_perturbed_stream(m, rs)"
   ]
  },
  {
   "cell_type": "code",
   "execution_count": 37,
   "metadata": {},
   "outputs": [
    {
     "data": {
      "image/png": "[encoded data removed]",
      "text/plain": [
       "<Figure size 800x800 with 1 Axes>"
      ]
     },
     "metadata": {},
     "output_type": "display_data"
    }
   ],
   "source": [
    "phi1_pert, phi2_pert = get_phi12_from_stream(perturbed_stream[:,:3])\n",
    "\n",
    "fig, ax = plt.subplots(1,1)\n",
    "fig.set_size_inches(8,8)\n",
    "\n",
    "\n",
    "ax.scatter(phi1_pert, phi2_pert,s=.1,color='grey')\n",
    "\n",
    "    \n",
    "ax.tick_params(axis='both', which='major', labelsize=14., length=8)\n",
    "ax.tick_params(axis='both', which='minor', length=3)\n",
    "ax.set_ylim(-10,10)\n",
    "ax.set_xlim(-80,20)\n",
    "ax.set_xlabel(r'$\\phi_1$ [deg]',fontsize=20)\n",
    "ax.set_ylabel(r'$\\phi_2$ [deg]',fontsize=20)\n",
    "ax.set_aspect('equal')"
   ]
  },
  {
   "cell_type": "code",
   "execution_count": null,
   "metadata": {},
   "outputs": [],
   "source": []
  },
  {
   "cell_type": "code",
   "execution_count": null,
   "metadata": {},
   "outputs": [],
   "source": []
  }
 ],
 "metadata": {
  "kernelspec": {
   "display_name": "streamsculptor_env",
   "language": "python",
   "name": "python3"
  },
  "language_info": {
   "codemirror_mode": {
    "name": "ipython",
    "version": 3
   },
   "file_extension": ".py",
   "mimetype": "text/x-python",
   "name": "python",
   "nbconvert_exporter": "python",
   "pygments_lexer": "ipython3",
   "version": "3.13.0"
  }
 },
 "nbformat": 4,
 "nbformat_minor": 2
}
