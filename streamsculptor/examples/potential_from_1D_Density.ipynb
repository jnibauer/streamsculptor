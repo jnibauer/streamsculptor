{
 "cells": [
  {
   "cell_type": "code",
   "execution_count": 1,
   "metadata": {},
   "outputs": [],
   "source": [
    "from astropy import units as u\n",
    "from gala.units import UnitSystem\n",
    "usys = UnitSystem(u.kpc, u.Myr, u.Msun, u.radian)\n",
    "import jax.numpy as jnp\n",
    "import streamsculptor as ssc\n",
    "import interpax\n",
    "import jax\n",
    "from astropy.constants import G"
   ]
  },
  {
   "cell_type": "markdown",
   "metadata": {},
   "source": [
    "In this example we convert a density profile to a potential object. This is accomplished by solving Poisson's equation over a grid, and storing the solution using 1d cubic interpolation.\n",
    "We will use the Zhao density as an example: http://ui.adsabs.harvard.edu/abs/1996MNRAS.278..488Z/abstract"
   ]
  },
  {
   "cell_type": "code",
   "execution_count": 3,
   "metadata": {},
   "outputs": [],
   "source": [
    "@jax.jit\n",
    "def zhao_density(m, r_s, alpha, beta, gamma, r):\n",
    "    uu = r / r_s\n",
    "    rho0 = m / (4 * jnp.pi * r_s**3)\n",
    "\n",
    "    b = (beta - gamma) * alpha\n",
    "    return rho0 / uu**gamma / (1.0 + uu ** (1.0 / alpha)) ** b\n"
   ]
  },
  {
   "cell_type": "markdown",
   "metadata": {},
   "source": [
    "The density function must have a single argument: the 1D spherical radius, r"
   ]
  },
  {
   "cell_type": "code",
   "execution_count": 4,
   "metadata": {},
   "outputs": [],
   "source": [
    "m = 1e11\n",
    "r_s = 10.0\n",
    "alpha = 1.0\n",
    "beta = 2.5\n",
    "gamma = 1.0\n",
    "\n",
    "density_func = lambda r: zhao_density(m, r_s, alpha, beta, gamma, r)\n"
   ]
  },
  {
   "cell_type": "code",
   "execution_count": 5,
   "metadata": {},
   "outputs": [],
   "source": [
    "from streamsculptor.potential import get_potential_from_density\n",
    "zhao_profile = get_potential_from_density(density_func, units=usys)"
   ]
  },
  {
   "cell_type": "markdown",
   "metadata": {},
   "source": [
    "That's it! You can now use `zhao_profile` like any other `streamsculptor` potential object"
   ]
  },
  {
   "cell_type": "code",
   "execution_count": 6,
   "metadata": {},
   "outputs": [
    {
     "data": {
      "text/plain": [
       "Array(-0.08283585, dtype=float64)"
      ]
     },
     "execution_count": 6,
     "metadata": {},
     "output_type": "execute_result"
    }
   ],
   "source": [
    "# Evaluate the potential\n",
    "zhao_profile.potential(jnp.array([1.,2.,3.]),0.0)"
   ]
  },
  {
   "cell_type": "code",
   "execution_count": 7,
   "metadata": {},
   "outputs": [
    {
     "data": {
      "text/plain": [
       "Array([0.0004346, 0.0008692, 0.0013038], dtype=float64)"
      ]
     },
     "execution_count": 7,
     "metadata": {},
     "output_type": "execute_result"
    }
   ],
   "source": [
    "# Evaluate the gradient\n",
    "zhao_profile.gradient(jnp.array([1.,2.,3.]),0.0)"
   ]
  },
  {
   "cell_type": "markdown",
   "metadata": {},
   "source": [
    "Below, we illustrate `get_potential_from_density` using the Plummer profile which has a simple analytic density/potential pairing"
   ]
  },
  {
   "cell_type": "code",
   "execution_count": 11,
   "metadata": {},
   "outputs": [],
   "source": [
    "plummer = ssc.potential.PlummerPotential(m=1e11, r_s=5.0, units=usys)\n",
    "plummer_density = lambda r: plummer.density(jnp.array([r,0,0]),0.0)\n",
    "plummer_test = get_potential_from_density(plummer_density, units=usys)\n"
   ]
  },
  {
   "cell_type": "code",
   "execution_count": 20,
   "metadata": {},
   "outputs": [
    {
     "name": "stdout",
     "output_type": "stream",
     "text": [
      "potential from density test: True\n"
     ]
    }
   ],
   "source": [
    "# Test it out\n",
    "xyz_test  = jnp.array([.1,20.,30.])\n",
    "print(\"potential from density test: \" + str(jnp.allclose(plummer.potential(xyz_test,0.0), plummer_test.potential(xyz_test,0.0), rtol=1e-3)))"
   ]
  },
  {
   "cell_type": "code",
   "execution_count": 24,
   "metadata": {},
   "outputs": [
    {
     "name": "stdout",
     "output_type": "stream",
     "text": [
      "acceleration from density test: True\n"
     ]
    }
   ],
   "source": [
    "print(\"acceleration from density test: \" + str(jnp.allclose(plummer.acceleration(xyz_test,0.0), plummer_test.acceleration(xyz_test,0.0), rtol=1e-3)))"
   ]
  },
  {
   "cell_type": "code",
   "execution_count": null,
   "metadata": {},
   "outputs": [],
   "source": []
  }
 ],
 "metadata": {
  "kernelspec": {
   "display_name": "streamsculptor_env",
   "language": "python",
   "name": "python3"
  },
  "language_info": {
   "codemirror_mode": {
    "name": "ipython",
    "version": 3
   },
   "file_extension": ".py",
   "mimetype": "text/x-python",
   "name": "python",
   "nbconvert_exporter": "python",
   "pygments_lexer": "ipython3",
   "version": "3.13.0"
  }
 },
 "nbformat": 4,
 "nbformat_minor": 2
}
